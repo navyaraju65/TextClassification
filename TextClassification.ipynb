{
 "cells": [
  {
   "cell_type": "code",
   "execution_count": 15,
   "id": "8a7c11d9-2e17-441d-b706-7d91d6675ae7",
   "metadata": {},
   "outputs": [],
   "source": [
    "import os\n",
    "data_path = r\"C:\\Users\\THIS PC\\OneDrive\\Desktop\\IR\\bbc\"\n",
    "categories = [\"business\", \"entertainment\", \"sport\", \"politics\", \"tech\"]\n",
    "dataset = []\n",
    "for category in categories:\n",
    "    category_path = os.path.join(data_path, category)\n",
    "    for filename in os.listdir(category_path):\n",
    "        file_path = os.path.join(category_path, filename)\n",
    "        with open(file_path, \"r\", encoding=\"latin1\") as file:\n",
    "            text = file.read()\n",
    "            dataset.append((text, category))"
   ]
  },
  {
   "cell_type": "code",
   "execution_count": 16,
   "id": "064b3f65-7a8c-4d59-83a6-171c5244124a",
   "metadata": {},
   "outputs": [
    {
     "name": "stdout",
     "output_type": "stream",
     "text": [
      "Label: politics\n",
      "Text: brown alli reject budget spree\n",
      "\n",
      "Label: entertainment\n",
      "Text: levi take whitbread novel prize\n",
      "\n",
      "Label: sport\n",
      "Text: iaaf launch fight drug\n",
      "\n",
      "Label: tech\n",
      "Text: technolog get creativ bug\n",
      "\n",
      "Label: business\n",
      "Text: china keep tight rein credit\n",
      "\n"
     ]
    }
   ],
   "source": [
    "# Sample data (replace this with your actual dataset)\n",
    "sample_data = [\n",
    "    (\"Brown ally rejects Budget spree.\", \"politics\"),\n",
    "    (\"Levy takes Whitbread novel prize.\", \"entertainment\"),\n",
    "    (\"IAAF launches fight against drugs.\", \"sport\"),\n",
    "    (\"Technology gets the creative bug.\", \"tech\"),\n",
    "    (\"China keeps tight rein on credit. \", \"business\")\n",
    "]\n",
    "\n",
    "# Preprocessing functions\n",
    "def preprocess_text(text):\n",
    "    # Lowercasing\n",
    "    text = text.lower()\n",
    "\n",
    "    # Removing punctuation (if needed)\n",
    "    text = text.replace('.', '').replace(',', '').replace('!', '').replace('?', '')\n",
    "\n",
    "    # Tokenization\n",
    "    tokens = word_tokenize(text)\n",
    "\n",
    "    # Remove stopwords\n",
    "    stop_words = set(stopwords.words('english'))\n",
    "    filtered_tokens = [token for token in tokens if token not in stop_words]\n",
    "\n",
    "    # Stemming (if needed)\n",
    "    stemmer = PorterStemmer()\n",
    "    stemmed_tokens = [stemmer.stem(token) for token in filtered_tokens]\n",
    "\n",
    "    # Join tokens back into a string\n",
    "    processed_text = ' '.join(stemmed_tokens)\n",
    "\n",
    "    return processed_text\n",
    "\n",
    "# Preprocess the sample data\n",
    "preprocessed_data = [(preprocess_text(text), label) for text, label in sample_data]\n",
    "\n",
    "# Display the preprocessed data\n",
    "for text, label in preprocessed_data:\n",
    "    print(f\"Label: {label}\\nText: {text}\\n\")"
   ]
  },
  {
   "cell_type": "code",
   "execution_count": 12,
   "id": "9a9cfe39-acad-402a-9ed5-d353f3025203",
   "metadata": {},
   "outputs": [
    {
     "name": "stdout",
     "output_type": "stream",
     "text": [
      "Accuracy: 0.00\n",
      "\n",
      "Classification Report:\n",
      "               precision    recall  f1-score   support\n",
      "\n",
      "     business       0.00      0.00      0.00       0.0\n",
      "entertainment       0.00      0.00      0.00       1.0\n",
      "\n",
      "     accuracy                           0.00       1.0\n",
      "    macro avg       0.00      0.00      0.00       1.0\n",
      " weighted avg       0.00      0.00      0.00       1.0\n",
      "\n",
      "\n",
      "Confusion Matrix:\n",
      "[[0 0]\n",
      " [1 0]]\n"
     ]
    },
    {
     "name": "stderr",
     "output_type": "stream",
     "text": [
      "C:\\Users\\THIS PC\\AppData\\Local\\Programs\\Python\\Python311\\Lib\\site-packages\\sklearn\\metrics\\_classification.py:1469: UndefinedMetricWarning: Precision and F-score are ill-defined and being set to 0.0 in labels with no predicted samples. Use `zero_division` parameter to control this behavior.\n",
      "  _warn_prf(average, modifier, msg_start, len(result))\n",
      "C:\\Users\\THIS PC\\AppData\\Local\\Programs\\Python\\Python311\\Lib\\site-packages\\sklearn\\metrics\\_classification.py:1469: UndefinedMetricWarning: Recall and F-score are ill-defined and being set to 0.0 in labels with no true samples. Use `zero_division` parameter to control this behavior.\n",
      "  _warn_prf(average, modifier, msg_start, len(result))\n",
      "C:\\Users\\THIS PC\\AppData\\Local\\Programs\\Python\\Python311\\Lib\\site-packages\\sklearn\\metrics\\_classification.py:1469: UndefinedMetricWarning: Precision and F-score are ill-defined and being set to 0.0 in labels with no predicted samples. Use `zero_division` parameter to control this behavior.\n",
      "  _warn_prf(average, modifier, msg_start, len(result))\n",
      "C:\\Users\\THIS PC\\AppData\\Local\\Programs\\Python\\Python311\\Lib\\site-packages\\sklearn\\metrics\\_classification.py:1469: UndefinedMetricWarning: Recall and F-score are ill-defined and being set to 0.0 in labels with no true samples. Use `zero_division` parameter to control this behavior.\n",
      "  _warn_prf(average, modifier, msg_start, len(result))\n",
      "C:\\Users\\THIS PC\\AppData\\Local\\Programs\\Python\\Python311\\Lib\\site-packages\\sklearn\\metrics\\_classification.py:1469: UndefinedMetricWarning: Precision and F-score are ill-defined and being set to 0.0 in labels with no predicted samples. Use `zero_division` parameter to control this behavior.\n",
      "  _warn_prf(average, modifier, msg_start, len(result))\n",
      "C:\\Users\\THIS PC\\AppData\\Local\\Programs\\Python\\Python311\\Lib\\site-packages\\sklearn\\metrics\\_classification.py:1469: UndefinedMetricWarning: Recall and F-score are ill-defined and being set to 0.0 in labels with no true samples. Use `zero_division` parameter to control this behavior.\n",
      "  _warn_prf(average, modifier, msg_start, len(result))\n"
     ]
    }
   ],
   "source": [
    "from sklearn.model_selection import train_test_split\n",
    "from sklearn.feature_extraction.text import TfidfVectorizer\n",
    "from sklearn.naive_bayes import MultinomialNB\n",
    "from sklearn.metrics import accuracy_score, classification_report, confusion_matrix\n",
    "\n",
    "# Sample preprocessed data (replace this with your actual preprocessed data)\n",
    "preprocessed_data = [\n",
    "    (\"Brown ally rejects Budget spree.\", \"politics\"),\n",
    "    (\"Levy takes Whitbread novel prize.\", \"entertainment\"),\n",
    "    (\"IAAF launches fight against drugs.\", \"sport\"),\n",
    "    (\"Technology gets the creative bug.\", \"tech\"),\n",
    "    (\"China keeps tight rein on credit. \", \"business\")\n",
    "]\n",
    "\n",
    "# Split data into features (X) and labels (y)\n",
    "X = [text for text, label in preprocessed_data]\n",
    "y = [label for text, label in preprocessed_data]\n",
    "\n",
    "# Split data into training and testing sets (80% train, 20% test)\n",
    "X_train, X_test, y_train, y_test = train_test_split(X, y, test_size=0.2, random_state=42)\n",
    "\n",
    "# Vectorize the text data using TF-IDF\n",
    "vectorizer = TfidfVectorizer()\n",
    "X_train_tfidf = vectorizer.fit_transform(X_train)\n",
    "X_test_tfidf = vectorizer.transform(X_test)\n",
    "\n",
    "# Train the Naive Bayes classifier\n",
    "clf = MultinomialNB()\n",
    "clf.fit(X_train_tfidf, y_train)\n",
    "\n",
    "# Make predictions on the test set\n",
    "y_pred = clf.predict(X_test_tfidf)\n",
    "\n",
    "# Evaluate the model\n",
    "\n",
    "\n",
    "accuracy = accuracy_score(y_test, y_pred)\n",
    "print(f\"Accuracy: {accuracy:.2f}\")\n",
    "\n",
    "print(\"\\nClassification Report:\")\n",
    "print(classification_report(y_test, y_pred))\n",
    "\n",
    "print(\"\\nConfusion Matrix:\")\n",
    "print(confusion_matrix(y_test, y_pred))\n"
   ]
  },
  {
   "cell_type": "code",
   "execution_count": 18,
   "id": "ad846254-1ad8-489f-a4c3-95bdfaa07ffb",
   "metadata": {},
   "outputs": [
    {
     "name": "stdout",
     "output_type": "stream",
     "text": [
      "Text: Brown ally rejects Budget spree.\n",
      "Predicted Class: politics\n",
      "\n",
      "Text: Mutant book wins Guardian prize.\n",
      "Predicted Class: tech\n",
      "\n",
      "Text: IAAF launches fight against drugs.\n",
      "Predicted Class: sport\n",
      "\n",
      "Text: Technology gets the creative bug.\n",
      "Predicted Class: tech\n",
      "\n",
      "Text: China keeps tight rein on credit.\n",
      "Predicted Class: business\n",
      "\n"
     ]
    }
   ],
   "source": [
    "# ... (previous code for model training and evaluation)\n",
    "\n",
    "# Sample new text data for inference\n",
    "new_text = [\n",
    "    \"Brown ally rejects Budget spree.\",\n",
    "    \"Mutant book wins Guardian prize.\", \n",
    "    \"IAAF launches fight against drugs.\", \n",
    "    \"Technology gets the creative bug.\", \n",
    "    \"China keeps tight rein on credit.\"\n",
    "]\n",
    "\n",
    "# Preprocess the new text data\n",
    "preprocessed_new_text = [preprocess_text(text) for text in new_text]\n",
    "\n",
    "# Vectorize the new text data using TF-IDF\n",
    "X_new_tfidf = vectorizer.transform(preprocessed_new_text)\n",
    "\n",
    "# Make predictions on the new text data\n",
    "new_predictions = clf.predict(X_new_tfidf)\n",
    "\n",
    "# Print the predictions for each input text\n",
    "for text, prediction in zip(new_text, new_predictions):\n",
    "    print(f\"Text: {text}\\nPredicted Class: {prediction}\\n\")"
   ]
  },
  {
   "cell_type": "code",
   "execution_count": null,
   "id": "d4d11254-feff-4297-8ec5-170d476d2351",
   "metadata": {},
   "outputs": [],
   "source": []
  },
  {
   "cell_type": "code",
   "execution_count": null,
   "id": "f68ddeda-151c-41d1-8f84-0d42d24a2274",
   "metadata": {},
   "outputs": [],
   "source": []
  }
 ],
 "metadata": {
  "kernelspec": {
   "display_name": "Python 3 (ipykernel)",
   "language": "python",
   "name": "python3"
  },
  "language_info": {
   "codemirror_mode": {
    "name": "ipython",
    "version": 3
   },
   "file_extension": ".py",
   "mimetype": "text/x-python",
   "name": "python",
   "nbconvert_exporter": "python",
   "pygments_lexer": "ipython3",
   "version": "3.11.4"
  }
 },
 "nbformat": 4,
 "nbformat_minor": 5
}
